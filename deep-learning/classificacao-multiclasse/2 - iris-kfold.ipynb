{
 "cells": [
  {
   "cell_type": "markdown",
   "metadata": {},
   "source": [
    "# Base íris, classificação multiclasse com kfold\n",
    "\n",
    "Vamos fazer a mesma coisa que fizemos na implementação da rede neural da Íris, porém \n",
    "utilizando da validação cruzada\n",
    "\n",
    "**Obs.: esse jupyter notebook não consegue ser rodado por conta do excesso de memória gasto, neste caso, rode o script em python**"
   ]
  },
  {
   "cell_type": "code",
   "execution_count": 1,
   "metadata": {},
   "outputs": [],
   "source": [
    "import pandas as pd\n",
    "\n",
    "base       = pd.read_csv(\"iris.csv\")\n",
    "previsores = base.iloc[:,0:4].values\n",
    "classe     = base.iloc[:,4].values"
   ]
  },
  {
   "cell_type": "code",
   "execution_count": 2,
   "metadata": {},
   "outputs": [
    {
     "name": "stderr",
     "output_type": "stream",
     "text": [
      "2022-08-24 20:36:38.702894: W tensorflow/stream_executor/platform/default/dso_loader.cc:64] Could not load dynamic library 'libcudart.so.11.0'; dlerror: libcudart.so.11.0: cannot open shared object file: No such file or directory\n",
      "2022-08-24 20:36:38.702909: I tensorflow/stream_executor/cuda/cudart_stub.cc:29] Ignore above cudart dlerror if you do not have a GPU set up on your machine.\n"
     ]
    }
   ],
   "source": [
    "from sklearn.preprocessing import LabelEncoder \n",
    "from keras.utils import np_utils\n",
    "\n",
    "# Transformar os dados em String para tipo numérico\n",
    "label_enconder = LabelEncoder()\n",
    "classe = label_enconder.fit_transform(classe)\n",
    "\n",
    "# Transformar o array de uma dimensão em três dimensões, para se ajustar \n",
    "# com o modelo de saida que tem três possibilidades\n",
    "classe_dummy = np_utils.to_categorical(classe)"
   ]
  },
  {
   "cell_type": "markdown",
   "metadata": {},
   "source": [
    "Novamente, vamos colocar a lógica de criar a rede neural em uma função"
   ]
  },
  {
   "cell_type": "code",
   "execution_count": 3,
   "metadata": {},
   "outputs": [],
   "source": [
    "from keras.models import Sequential\n",
    "from keras.layers import Dense \n",
    "\n",
    "def create_neural_networks():\n",
    "    classificador = Sequential()\n",
    "\n",
    "    camada_escondida = Dense(units = 4,\n",
    "                            activation = 'relu',\n",
    "                            input_dim = 4)\n",
    "\n",
    "    camada_escondida2 = Dense(units = 4,\n",
    "                            activation = 'relu')\n",
    "\n",
    "    \"\"\"\n",
    "    Diferente da classificação binária, neste caso temos \n",
    "    três neurônios na camada de saída, pois temos três possíveis\n",
    "    resultados. Além disso, a nossa função de ativação será a softmax, pois\n",
    "    queremos transformar um vetor de dados (neste caso as informações processadas\n",
    "    das petalas), em um valor número probabilístico.\n",
    "    \"\"\"\n",
    "    camada_de_saida = Dense(units = 3, \n",
    "                            activation = 'softmax')\n",
    "\n",
    "    classificador.add(camada_escondida)\n",
    "    classificador.add(camada_escondida2)\n",
    "    classificador.add(camada_de_saida)\n",
    "\n",
    "    classificador.compile(\n",
    "        optimizer=\"adam\", \n",
    "        loss=\"categorical_crossentropy\", \n",
    "        metrics=[\"categorical_accuracy\"])\n",
    "\n",
    "    return classificador"
   ]
  },
  {
   "cell_type": "markdown",
   "metadata": {},
   "source": [
    "Por fim, vamos criar o classificador e fazer a validação cruzada"
   ]
  },
  {
   "cell_type": "code",
   "execution_count": 4,
   "metadata": {},
   "outputs": [
    {
     "name": "stderr",
     "output_type": "stream",
     "text": [
      "/tmp/ipykernel_232677/433920566.py:3: DeprecationWarning: KerasClassifier is deprecated, use Sci-Keras (https://github.com/adriangb/scikeras) instead. See https://www.adriangb.com/scikeras/stable/migration.html for help migrating.\n",
      "  classificador = KerasClassifier(build_fn=create_neural_networks,\n"
     ]
    }
   ],
   "source": [
    "from keras.wrappers.scikit_learn import KerasClassifier\n",
    "\n",
    "classificador = KerasClassifier(build_fn=create_neural_networks,\n",
    "                                epochs=1000,\n",
    "                                batch_size=10)"
   ]
  },
  {
   "cell_type": "code",
   "execution_count": 8,
   "metadata": {},
   "outputs": [
    {
     "name": "stderr",
     "output_type": "stream",
     "text": [
      "/home/guaruda/.local/lib/python3.10/site-packages/sklearn/model_selection/_validation.py:372: FitFailedWarning: \n",
      "10 fits failed out of a total of 10.\n",
      "The score on these train-test partitions for these parameters will be set to nan.\n",
      "If these failures are not expected, you can try to debug them by setting error_score='raise'.\n",
      "\n",
      "Below are more details about the failures:\n",
      "--------------------------------------------------------------------------------\n",
      "10 fits failed with the following error:\n",
      "Traceback (most recent call last):\n",
      "  File \"/home/guaruda/.local/lib/python3.10/site-packages/sklearn/model_selection/_validation.py\", line 680, in _fit_and_score\n",
      "    estimator.fit(X_train, y_train, **fit_params)\n",
      "  File \"/home/guaruda/.local/lib/python3.10/site-packages/keras/wrappers/scikit_learn.py\", line 236, in fit\n",
      "    return super(KerasClassifier, self).fit(x, y, **kwargs)\n",
      "  File \"/home/guaruda/.local/lib/python3.10/site-packages/keras/wrappers/scikit_learn.py\", line 157, in fit\n",
      "    if (losses.is_categorical_crossentropy(self.model.loss) and\n",
      "AttributeError: 'Sequential' object has no attribute 'loss'\n",
      "\n",
      "  warnings.warn(some_fits_failed_message, FitFailedWarning)\n"
     ]
    }
   ],
   "source": [
    "from sklearn.model_selection import cross_val_score\n",
    "\n",
    "resultados = cross_val_score(estimator=classificador,\n",
    "                            X=previsores,\n",
    "                            y=classe,\n",
    "                            cv=10,\n",
    "                            scoring='accuracy')"
   ]
  },
  {
   "cell_type": "markdown",
   "metadata": {},
   "source": [
    "Aqui vamos imprimir o resultado da média e do desvio"
   ]
  },
  {
   "cell_type": "code",
   "execution_count": null,
   "metadata": {},
   "outputs": [],
   "source": [
    "media = resultados.mean()\n",
    "desvio = resultados.std()"
   ]
  }
 ],
 "metadata": {
  "kernelspec": {
   "display_name": "Python 3.10.6 64-bit",
   "language": "python",
   "name": "python3"
  },
  "language_info": {
   "codemirror_mode": {
    "name": "ipython",
    "version": 3
   },
   "file_extension": ".py",
   "mimetype": "text/x-python",
   "name": "python",
   "nbconvert_exporter": "python",
   "pygments_lexer": "ipython3",
   "version": "3.10.6"
  },
  "orig_nbformat": 4,
  "vscode": {
   "interpreter": {
    "hash": "e7370f93d1d0cde622a1f8e1c04877d8463912d04d973331ad4851f04de6915a"
   }
  }
 },
 "nbformat": 4,
 "nbformat_minor": 2
}
