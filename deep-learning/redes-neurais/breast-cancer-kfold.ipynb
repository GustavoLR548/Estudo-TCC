{
 "cells": [
  {
   "cell_type": "markdown",
   "metadata": {},
   "source": [
    "# Breast cancer neural network, but with kfold"
   ]
  },
  {
   "cell_type": "code",
   "execution_count": 1,
   "metadata": {},
   "outputs": [],
   "source": [
    "import pandas as pd\n",
    "\n",
    "previsores_df = pd.read_csv(\"entradas_breast.csv\")\n",
    "classes_df    = pd.read_csv(\"saidas_breast.csv\")"
   ]
  },
  {
   "cell_type": "markdown",
   "metadata": {},
   "source": [
    "# Primeiro passo\n",
    "\n",
    "Vamos iniciar a rede neural, da mesma forma que fizemos no primeiro exemplo"
   ]
  },
  {
   "cell_type": "code",
   "execution_count": null,
   "metadata": {},
   "outputs": [],
   "source": [
    "from keras.models import Sequential\n",
    "from keras.layers import Dense\n",
    "from keras.optimizers import Adam \n",
    "\n",
    "def create_neural_network():\n",
    "    num_elementos = len(previsores_df.columns)\n",
    "    num_neuronios = round((num_elementos + 1)/2)\n",
    "\n",
    "    classificador = Sequential()\n",
    "\n",
    "    camada_dos_atributos = Dense(units=num_neuronios,\n",
    "                            activation=\"relu\",\n",
    "                            kernel_initializer=\"random_uniform\",\n",
    "                            input_dim=num_elementos)\n",
    "\n",
    "    camada_dos_atributos2 = Dense(units=num_neuronios,\n",
    "                            activation=\"relu\",\n",
    "                            kernel_initializer=\"random_uniform\",\n",
    "                            input_dim=num_elementos)\n",
    "\n",
    "    \"\"\"\n",
    "    Como a resposta é apenas se o câncer é benigno ou maligno, temos apenas\n",
    "    um neurônio nessa camada. Além disso, como queremos uma de 0 ou 1, então\n",
    "    utilizamos a função sigmoid, que irá gerar um número entre 0 e 1, logo\n",
    "    nos dizendo a probabilidade do tipo de cancer\n",
    "    \"\"\"\n",
    "    camada_de_respostas = Dense(units=1,\n",
    "                                activation=\"sigmoid\")\n",
    "\n",
    "    classificador.add(camada_dos_atributos)\n",
    "    classificador.add(camada_dos_atributos2)\n",
    "    classificador.add(camada_de_respostas)\n",
    "\n",
    "    optimizer = Adam(learning_rate=0.001, beta_1=0.0001, beta_2=0.5)\n",
    "\n",
    "    classificador.compile(optimizer=optimizer,\n",
    "                        loss=\"binary_crossentropy\",\n",
    "                        metrics=[\"binary_accuracy\"]\n",
    "                        )\n",
    "\n",
    "    return classificador"
   ]
  },
  {
   "cell_type": "markdown",
   "metadata": {},
   "source": [
    "# Segundo passo\n",
    "\n",
    "Vamos introduzir a validação cruzada"
   ]
  },
  {
   "cell_type": "code",
   "execution_count": null,
   "metadata": {},
   "outputs": [],
   "source": [
    "from keras.wrappers.scikit_learn import KerasClassifier\n",
    "from sklearn.model_selection import cross_val_score\n",
    "\n",
    "classificador = KerasClassifier(build_fn=create_neural_network)"
   ]
  }
 ],
 "metadata": {
  "kernelspec": {
   "display_name": "Python 3.8.10 64-bit",
   "language": "python",
   "name": "python3"
  },
  "language_info": {
   "codemirror_mode": {
    "name": "ipython",
    "version": 3
   },
   "file_extension": ".py",
   "mimetype": "text/x-python",
   "name": "python",
   "nbconvert_exporter": "python",
   "pygments_lexer": "ipython3",
   "version": "3.8.10"
  },
  "orig_nbformat": 4,
  "vscode": {
   "interpreter": {
    "hash": "916dbcbb3f70747c44a77c7bcd40155683ae19c65e1c03b4aa3499c5328201f1"
   }
  }
 },
 "nbformat": 4,
 "nbformat_minor": 2
}
